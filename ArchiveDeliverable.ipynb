{
 "cells": [
  {
   "cell_type": "markdown",
   "metadata": {},
   "source": [
    "# Archive Evaluation\n",
    "\n",
    "Early in the course we'd like to have students practicing researching and getting a feel for the exoplanet archive; even before they need to use it to select their actual target.\n",
    "\n",
    "This involves an exercise, which will be either included in the first assignment, or submitted and marked on its own. The exercise is to be submitted individually, and each student should be looking up their own info, however, they are allowed to work on it together. (ie, 5 students may work together to create 5 reports) ((Each student will be assigned their own values/items)) \n",
    "\n",
    "-------\n",
    "\n",
    "## The general idea is:\n",
    "Each student will get an observatory, and have to look through the archive in two phases/parts:\n",
    "\n",
    "\n",
    "## Part 1: A star\n",
    "- each student will get a star (with a planet) **need to make sure no multiple exoplanet systems in this list**\n",
    "- They will open up the stars archive page, and write down:\n",
    "    1. the star's magnitude {m_V}\n",
    "    2. the transit period {P}\n",
    "    3. the transit duration {T_14}\n",
    "    4. the transit depth {$\\delta$} (a/R?) (∆M?)\n",
    "- They will need to calculate: When \"nighttime\" is for their observatory location\n",
    "- They will then pull up the transit prediction service\n",
    "    1. They will look through the list of transits, and find the next one that is happening at night\n",
    "    2. They will then write down the midtime in UTC\n",
    "    3. Then they will convert it to LT\n",
    "    4. They will then use the duration to determine between what times the transit will be occuring\n",
    "    \n",
    "## Part 2: A night\n",
    "- Each student will get/select a night (Allow them to choose a significant date? ex birthday?)\n",
    "- They will then use the transit and ephemeris service on the archive to look through for that night (and that observatory)\n",
    "- They will need to find a transit happening on that night, and write down:\n",
    "    1. The magnitude\n",
    "    2. The duration\n",
    "    3. The depth (if exists)\n",
    "    4. The period\n",
    "    5. The midtime of transit (date and time) (in both LT and UTC?)\n",
    "    6. The name of the star!!!!"
   ]
  },
  {
   "cell_type": "markdown",
   "metadata": {},
   "source": [
    "# Deliverables/Marks:\n",
    "\n",
    "- What their observatory is\n",
    "- The timezone of their observatory\n",
    "\n",
    "------\n",
    "\n",
    "- The magnitude of the assigned star\n",
    "- The period of the assigned star\n",
    "- The duration of the assigned star's transit\n",
    "- The depth of the assigned star's transit\n",
    "- The time range in UTC of night at their observatory\n",
    "- The midtime of their assigned star's next transit occuring at night in UTC\n",
    "- The conversion of the previous mid-time into LT\n",
    "- The start and end times of their assigned star's next nighttime transit (UTC or LT)\n",
    "\n",
    "--------\n",
    "\n",
    "- The night they are looking for transits during\n",
    "- The name of an exoplanet/star transiting on that night\n",
    "- The midtime of that transit (in UTC)\n",
    "- The magnitdue for that star\n",
    "- The duration of that transit \n",
    "- The depth of that transit\n",
    "- The transit of that star\n",
    "- The midtime in LT\n",
    "- The start and end times of transit (UTC or LT)\n",
    "\n",
    "-------\n",
    "\n",
    "Possible bonus questions:\n",
    "- For the star you found for the specific night, will it's NEXT transit be at night? (Y/N SYW)\n",
    "- The change in magnitude of the star (from percent delta and mag) (Calc, SYW)\n",
    "- The airmass of the transits (at mid, and also the range over whole event) (Write Down)\n",
    "- Calculate sample time on either end as practice for later observation plan (EZ Calc)"
   ]
  },
  {
   "cell_type": "markdown",
   "metadata": {},
   "source": [
    "------\n",
    "\n",
    "What do I need to do?\n",
    "\n",
    "Well, how do I assign the values?\n",
    "There's got to be some way to do it; maybe have them enter in some info somewhere and have the items emailed to them? And as an alternative have them ome by office hours/ after class and we can submit a ticket for them, and then write it down and tell them, then send them off?\n",
    "\n",
    "How do I make a random variable assigner?\n",
    "Well, I don't need anything fancy, I just need it to give them one out of a lits of options, all normally distributed. I could write my own code, or try and find a website or such to do it for me... The later is probably easier, but admittedly less fun..."
   ]
  },
  {
   "cell_type": "code",
   "execution_count": null,
   "metadata": {},
   "outputs": [],
   "source": []
  }
 ],
 "metadata": {
  "kernelspec": {
   "display_name": "Python 3",
   "language": "python",
   "name": "python3"
  },
  "language_info": {
   "codemirror_mode": {
    "name": "ipython",
    "version": 3
   },
   "file_extension": ".py",
   "mimetype": "text/x-python",
   "name": "python",
   "nbconvert_exporter": "python",
   "pygments_lexer": "ipython3",
   "version": "3.8.5"
  }
 },
 "nbformat": 4,
 "nbformat_minor": 4
}
